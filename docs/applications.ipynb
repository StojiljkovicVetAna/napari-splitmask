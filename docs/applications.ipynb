{
 "cells": [
  {
   "attachments": {},
   "cell_type": "markdown",
   "metadata": {},
   "source": [
    "# Application\n",
    "napari-splitmask is used to measure fluctuations of intensities in time-lapse images of objects that does not change their position over time. This could apply for example on cells embedded in tissue, where only intracellular protein expression varies over time, or for calcium imaging experiments. Splitmask divides the studied object in regions of interest of specific geometries and measures the underlying intensities of the splits in different channels over time. The data are then easily exported as csv files, containing the measured intensities in the different splits called 'sectors'.\n",
    "For now only one object can be measured at a time. However, we are working on automatizing the process to export data from different objects during a measurement session.\n",
    "\n",
    "We are aware that many researchers would want to measure intensities over time on moving objects, however this is out of scope for napari-splitmask. In fact, splitmask is a simplified version of a much complexer tool called ['MorphoDynamics'](https://github.com/guiwitz/MorphoDynamics). MorphoDynamics allows to segment objects using a variety of cutting-edge segmentation approaches, to split the objects into region of interest and precisely track not only the object, but also the displacement of the different regions over time. However, you can imagine that this requires higher computational power, this is why splitmask has been developed for very specific applications, where tracking of the object is not required. Please, consider splitmask as a spin-off of MorphoDynamics, and use one or the other depending on the specific scientific question."
   ]
  }
 ],
 "metadata": {
  "language_info": {
   "name": "python"
  },
  "orig_nbformat": 4
 },
 "nbformat": 4,
 "nbformat_minor": 2
}
